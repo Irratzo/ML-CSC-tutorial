{
 "cells": [
  {
   "cell_type": "markdown",
   "metadata": {},
   "source": [
    "# Many Body Tensor Representation\n",
    "\n",
    "MBTR is a global descriptor for a molecule/unit-cell. it eliminates rotational, transational, and permutation variences by forming tensors of combinations of elements, from one to four, called K1, K2, K3, K4. All such combinations have an associated gaussian-smeared exponantially-weighted histogram.\n",
    "\n",
    "For MBTR, we use [describe package](https://github.com/SINGROUP/describe) as developed by [Surfaces and Interfaces at the Nanoscale, Aalto](http://physics.aalto.fi/en/groups/sin/)\n",
    "\n",
    "## The Tensor\n",
    "The tensor comprises combinations of elements in different numbers. So, K1 is 1 element, K2 is 2 elements, and so on. These K's represent different expression of the molecule/unit-cell.\n",
    "\n",
    "### K1\n",
    "K1 represents the gaussian-smeared exponantially-weighted histogram for **counts** of each element type. So, in essense it is a matrix of size MxN, where M is the number of elements, and N is the number of bins.\n",
    "\n",
    "![K1](./images/k1.png)\n",
    "\n",
    "### K2\n",
    "K2 represents the gaussian-smeared exponantially-weighted histogram **inverse distances** of pairs of elements. So, this becomes a tensor of size MxMxN, where M is the number of elements, and N is the number of bins.\n",
    "\n",
    "![K2](./images/k2.png)\n",
    "\n",
    "### K3\n",
    "K3 represents the gaussian-smeared exponantially-weighted histogram **angles between triplets** of elements. So, this becomes a tensor of size MxMxMxN, where M is the number of elements, and N is the number of bins.\n",
    "\n",
    "![K3](./images/k3.png)\n",
    "\n",
    "*Note: the describe package has implementation of MBTR upto K3*\n",
    "\n",
    "### K4 \n",
    "K4 represents the gaussian-smeared exponantially-weighted histogram **di-hedral angles** between quadruplets of elements. So, this becomes a tensor of size MxMxMxMxN, where M is the number of elements, and N is the number of bins.\n",
    "\n",
    "![K4](./images/k4.png)\n",
    "\n",
    "## Weighting\n",
    "\n",
    "All the tensors, but K1, are weighted. This ensures that contributions from nearby elemets is  higher, than from farther ones. The describe package implements exponantial weighting.\n",
    "\n",
    "For more info about MBTR see:\n",
    "[Huo, Haoyan, and Matthias Rupp. *arXiv preprint* **arXiv:1704.06439 (2017)**](https://arxiv.org/pdf/1704.06439.pdf)  "
   ]
  },
  {
   "cell_type": "markdown",
   "metadata": {},
   "source": [
    "## Example\n",
    "\n",
    "We are going to see MBTR in action for a simple NaCl system."
   ]
  },
  {
   "cell_type": "code",
   "execution_count": null,
   "metadata": {},
   "outputs": [],
   "source": [
    "# --- INITIAL DEFINITIONS ---\n",
    "from describe.descriptors import MBTR\n",
    "from describe.core import System\n",
    "from describe.data.element_data import numbers_to_symbols\n",
    "import numpy as np\n",
    "from ase.visualize import view\n",
    "import matplotlib.pyplot as mpl"
   ]
  },
  {
   "cell_type": "markdown",
   "metadata": {},
   "source": [
    "### Atom description\n",
    "\n",
    "We'll make a ase.Atoms class for NaCl. However, the describe package has a wrapper, called System, to ase.Atoms, with added functions. So we'll make a System class, with syntax simmilar to ase.Atoms."
   ]
  },
  {
   "cell_type": "code",
   "execution_count": null,
   "metadata": {},
   "outputs": [],
   "source": [
    "# Define the system under study: NaCl in a conventional cell.\n",
    "NaCl_conv = System(\n",
    "    cell=[\n",
    "        [5.6402, 0.0, 0.0],\n",
    "        [0.0, 5.6402, 0.0],\n",
    "        [0.0, 0.0, 5.6402]\n",
    "    ],\n",
    "    scaled_positions=[\n",
    "        [0.0, 0.5, 0.0],\n",
    "        [0.0, 0.5, 0.5],\n",
    "        [0.0, 0.0, 0.5],\n",
    "        [0.0, 0.0, 0.0],\n",
    "        [0.5, 0.5, 0.5],\n",
    "        [0.5, 0.5, 0.0],\n",
    "        [0.5, 0.0, 0.0],\n",
    "        [0.5, 0.0, 0.5]\n",
    "    ],\n",
    "    symbols=[\"Na\", \"Cl\", \"Na\", \"Cl\", \"Na\", \"Cl\", \"Na\", \"Cl\"],\n",
    ")\n",
    "view(NaCl_conv, viewer='x3d')"
   ]
  },
  {
   "cell_type": "markdown",
   "metadata": {},
   "source": [
    "### Setting MBTR hyper-parameters\n",
    "\n",
    "Next we set-up hyper-parameters:\n",
    "1. atomic_numbers, the atomic numbers to include in the MBTR, helps comparing two structures with missing elements\n",
    "2. k, list/set of K's to be computed\n",
    "3. grid: dictionary for K1, K2, K3 with\n",
    "    min, max: are the min and max values for each distribution\n",
    "    sigma, the exponent coefficient for smearing\n",
    "    n, number of bins.\n",
    "4. weights: dictionary of weighting functions to be used.\n",
    "\n",
    "**Note: The describe package has implementation of MBTR upto K3**\n"
   ]
  },
  {
   "cell_type": "code",
   "execution_count": null,
   "metadata": {},
   "outputs": [],
   "source": [
    "# Create the MBTR desciptor for the system\n",
    "decay_factor = 0.5\n",
    "mbtr = MBTR(\n",
    "    atomic_numbers=[11, 17], # Na and Cl\n",
    "    k=[1, 2, 3],\n",
    "    periodic=True,\n",
    "    grid={\n",
    "        \"k1\": {\n",
    "            \"min\": 10,\n",
    "            \"max\": 18,\n",
    "            \"sigma\": 0.1,\n",
    "            \"n\": 200,\n",
    "        },\n",
    "        \"k2\": {\n",
    "            \"min\": 0,\n",
    "            \"max\": 0.7,\n",
    "            \"sigma\": 0.01,\n",
    "            \"n\": 200,\n",
    "        },\n",
    "        \"k3\": {\n",
    "            \"min\": -1.0,\n",
    "            \"max\": 1.0,\n",
    "            \"sigma\": 0.05,\n",
    "            \"n\": 200,\n",
    "        }\n",
    "    },\n",
    "    weighting={\n",
    "        \"k2\": {\n",
    "            \"function\": lambda x: np.exp(-decay_factor*x),\n",
    "            \"threshold\": 1e-3\n",
    "        },\n",
    "        \"k3\": {\n",
    "            \"function\": lambda x: np.exp(-decay_factor*x),\n",
    "            \"threshold\": 1e-3\n",
    "        },\n",
    "    },\n",
    "    flatten=False)\n",
    "print(\"Number of features: {}\".format(mbtr.get_number_of_features()))"
   ]
  },
  {
   "cell_type": "markdown",
   "metadata": {},
   "source": [
    "### Calculate MBTR\n",
    "\n",
    "We call the create functin of mbtr class over our System(ase.Atoms) object"
   ]
  },
  {
   "cell_type": "code",
   "execution_count": null,
   "metadata": {},
   "outputs": [],
   "source": [
    "#Create Descriptor\n",
    "desc = mbtr.create(NaCl_conv)"
   ]
  },
  {
   "cell_type": "markdown",
   "metadata": {},
   "source": [
    "### Plotting \n",
    "\n",
    "We will now plot all the tensors, in the same plot, for K1, K2, and K3"
   ]
  },
  {
   "cell_type": "code",
   "execution_count": null,
   "metadata": {},
   "outputs": [],
   "source": [
    "#plot K1\n",
    "x1 = mbtr._axis_k1\n",
    "mpl.plot(x1, desc[0][0, :], label=\"Na\", color=\"blue\")\n",
    "mpl.plot(x1, desc[0][1, :], label=\"Cl\", color=\"orange\")\n",
    "mpl.ylabel(\"$\\phi$ (arbitrary units)\", size=20)\n",
    "mpl.xlabel(\"Atomic number\", size=20)\n",
    "mpl.title(\"The element count in NaCl crystal.\", size=20)\n",
    "mpl.legend()\n",
    "mpl.show()"
   ]
  },
  {
   "cell_type": "code",
   "execution_count": null,
   "metadata": {},
   "outputs": [],
   "source": [
    "# Plot K2\n",
    "x2 = mbtr._axis_k2\n",
    "mpl.plot(x2, desc[1][0, 1, :], label=\"NaCl, ClNa\", color=\"blue\")\n",
    "mpl.plot(x2, desc[1][1, 1, :], label=\"ClCl\", color=\"orange\")\n",
    "mpl.plot(x2, desc[1][0, 0, :], label=\"NaNa\", color=\"green\")\n",
    "mpl.ylabel(\"$\\phi$ (arbitrary units)\", size=20)\n",
    "mpl.xlabel(\"Inverse distance (1/angstrom)\", size=20)\n",
    "mpl.title(\"The exponentially weighted inverse distance distribution in NaCl crystal.\", size=20)\n",
    "mpl.legend()\n",
    "mpl.show()"
   ]
  },
  {
   "cell_type": "code",
   "execution_count": null,
   "metadata": {},
   "outputs": [],
   "source": [
    "# Plot K3\n",
    "x3 = mbtr._axis_k3\n",
    "imap = mbtr.index_to_atomic_number\n",
    "smap = {}\n",
    "for index, number in imap.items():\n",
    "    smap[index] = numbers_to_symbols(number)\n",
    "mpl.plot(x3, desc[2][0, 0, 0, :], label=\"NaNaNa, ClClCl\".format(smap[0], smap[0], smap[0]), color=\"blue\")\n",
    "mpl.plot(x3, desc[2][0, 0, 1, :], label=\"NaNaCl, NaClCl\".format(smap[0], smap[0], smap[1]), color=\"orange\")\n",
    "mpl.plot(x3, desc[2][1, 0, 1, :], label=\"NaClNa, ClNaCl\".format(smap[1], smap[0], smap[1]), color=\"green\")\n",
    "mpl.ylabel(\"$\\phi$ (arbitrary units)\", size=20)\n",
    "mpl.xlabel(\"cos(angle)\", size=20)\n",
    "mpl.title(\"The exponentially weighted angle distribution in NaCl crystal.\", size=20)\n",
    "mpl.legend()\n",
    "mpl.show()"
   ]
  },
  {
   "cell_type": "markdown",
   "metadata": {},
   "source": [
    "## Remark\n",
    "\n",
    "The MBTR is a fingreprint of entire system. Thus, it can be used to:\n",
    "1. Compare the similarity of two chemical system by taking the norm of the MBTR values.\n",
    "2. Machine learn total properties, like energies, dipole moment, etc.\n",
    "\n",
    "## Exercise\n",
    "\n",
    "Verify that the MBTR is translationally and rotationally invarient."
   ]
  },
  {
   "cell_type": "code",
   "execution_count": null,
   "metadata": {},
   "outputs": [],
   "source": [
    "\n"
   ]
  }
 ],
 "metadata": {
  "kernelspec": {
   "display_name": "Python 3",
   "language": "python",
   "name": "python3"
  },
  "language_info": {
   "codemirror_mode": {
    "name": "ipython",
    "version": 3
   },
   "file_extension": ".py",
   "mimetype": "text/x-python",
   "name": "python",
   "nbconvert_exporter": "python",
   "pygments_lexer": "ipython3",
   "version": "3.5.2"
  }
 },
 "nbformat": 4,
 "nbformat_minor": 2
}
