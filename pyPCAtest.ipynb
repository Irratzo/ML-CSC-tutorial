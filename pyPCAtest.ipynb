{
 "cells": [
  {
   "cell_type": "markdown",
   "metadata": {
    "deletable": true,
    "editable": true
   },
   "source": [
    "# Principal Component Analysis\n",
    "## Introduction\n",
    "\n",
    "Principal Component Analysis (PCA) is a dimensionality-reduction method that is typically used to transform a high-dimensional data set into a smaller-dimensional subspace prior to applying a machine learning algorithm on the data.\n",
    "\n",
    "PCA aims to re-express the data as a linear combination of its basis vectors. Let $X$ and $Y$ be $N \\times M$ matrices related by a linear transformation $V$. $X$ is the original data and $Y$ is a re-representation of the  original data.\n",
    "\\begin{equation} \n",
    "X \\, V=Y\n",
    "\\end{equation}\n",
    "where \n",
    "\\begin{align}\n",
    "X \\, V &= \\left(\n",
    "\\begin{array}{c}\n",
    "\\mathbf{x}_1 \\\\\n",
    "\\mathbf{x}_2 \\\\\n",
    "\\vdots \\\\\n",
    "\\mathbf{x}_N\n",
    "\\end{array} \\right)\n",
    "\\Big(\n",
    "\\mathbf{v}_1 \\, \\mathbf{v}_2 \\, \\cdots \\, \\mathbf{v}_M \\Big)\n",
    " \\\\\n",
    "Y &= \\left(\n",
    "\\begin{array}{ccc}\n",
    "\\mathbf{x}_1 \\, . \\, \\mathbf{v}_1  & \\ldots & \\mathbf{x}_1 \\, . \\, \\mathbf{v}_M  \\\\\n",
    "\\vdots & \\ddots & \\vdots \\\\\n",
    "\\mathbf{x}_N \\, . \\, \\mathbf{v}_1  & \\ldots & \\mathbf{x}_N \\, . \\, \\mathbf{v}_M  \n",
    "\\end{array} \\right) \n",
    "\\end{align}\n",
    "\n",
    "The columns of $V$, $\\{ \\mathbf{v}_1, . . . , \\mathbf{v}_M \\}$, are a set of new basis vectors for expressing the columns of X.\n",
    "The column vectors $\\{ \\mathbf{v}_1, . . . , \\mathbf{v}_M \\}$\n",
    "in this transformation is the principal components (PCs) of $X$. \n",
    "Covariance matrix, $\\text{cov} (X)$, describes all relationships between pairs of measurements in our data set, $X$, which can be expressed mathematically as:\n",
    "\n",
    "\\begin{equation}\n",
    "\\text{cov} (X)= \\frac{1}{N} \\sum_n^{N} (x_n - \\mu_x) \\, (x_n - \\mu_x)\n",
    "\\end{equation}\n",
    "\n",
    "The PCs are the eigenvectors of the covariance matrix of the original dataset, $\\text{cov} (X)$. \n",
    "Because the covariance matrix is symmetric, the eigenvectors are orthogonal. The PCs (eigenvectors) correspond to the direction (in the original n-dimensional space) with the greatest variance in the data. Each eigenvector has a corresponding eigenvalue. An eigenvalue is a scalar. Recall that an eigenvector corresponds to a direction. The corresponding eigenvalue is a number that indicates how much variance there is in the data along that eigenvector (or PC)."
   ]
  },
  {
   "cell_type": "markdown",
   "metadata": {
    "deletable": true,
    "editable": true
   },
   "source": [
    "## Tutorial 1: creating PCA function\n",
    "PCA finds the principal components (PCs) of data. PCA transforms the data into a new, lower dimensional\n",
    "subspace (i.e. into a new coordinate system). In the new coordinate system, the first axis corresponds to the first PC, which is the component that explains the greatest amount of the variance in the data. \n",
    "In order to get insight better about PCA, we will exercise creating Python script of PCA from scratch and then apply it on a simple toy data in the second example.\n",
    "\n",
    "<b>NOTE</b>: it is important to run all the steps (codes) below to ensure the following codes can be executed.\n",
    "\n",
    "First, the following codes is necessary to import the useful part of Python tools and libraries:"
   ]
  },
  {
   "cell_type": "code",
   "execution_count": 1,
   "metadata": {
    "collapsed": true,
    "deletable": true,
    "editable": true
   },
   "outputs": [],
   "source": [
    "import numpy as np\n",
    "import math\n",
    "import random"
   ]
  },
  {
   "cell_type": "markdown",
   "metadata": {
    "deletable": true,
    "editable": true
   },
   "source": [
    "Numpy is an important library for scientific computing and it makes Python coding easier and \n",
    "faster in dealing with linear algebra.\n",
    "\n",
    "The next step is to calculate covariance matrix of original data which describe all relationships \n",
    "between pairs in the data. This is given the last equation (see the introduction), and \n",
    "can be expressed in Python code by:"
   ]
  },
  {
   "cell_type": "code",
   "execution_count": 2,
   "metadata": {
    "collapsed": true,
    "deletable": true,
    "editable": true
   },
   "outputs": [],
   "source": [
    "def covariance (X): # function for matrix X\n",
    "    [nX,mX]=X.shape # get the size of the matrix X\n",
    "    meanX = np.divide(np.sum(X, axis=0),nX)  # mean row of matrix X\n",
    "    zX = X - np.kron(np.ones((nX,1)),meanX) # zX = [X - meanX]\n",
    "    covX = np.divide(np.dot(zX.T,zX),nX-1) # covariance matrix\n",
    "    return covX"
   ]
  },
  {
   "cell_type": "markdown",
   "metadata": {
    "deletable": true,
    "editable": true
   },
   "source": [
    "Following the declaration of covariance matrix code, we begin constructing PCA main function.\n",
    "First, covariance matrix of original data is computed. \n",
    "We then calculate eigenvectors and eigenvalues of the obtained covariance matrix, $\\text{cov}(X)$, by using numpy function: <i>np.linalg.eig</i>. We then create a linear transformation, given the first equation above. \n",
    "Finally, the function returns the values of eigenvectors,\n",
    "$V$ , and its associated eigenvalues, $D$, as well as the new data transformation, $Y_n$."
   ]
  },
  {
   "cell_type": "code",
   "execution_count": 3,
   "metadata": {
    "collapsed": true,
    "deletable": true,
    "editable": true
   },
   "outputs": [],
   "source": [
    "def PCA(X):\n",
    "    XCov=covariance(X) # this is the same as XCov=np.cov(Xn.T)\n",
    "    D, V = np.linalg.eig(XCov) # D is eigval and V is eigvec\n",
    "    Yn=np.dot(X,V)             # perform the linear transformation\n",
    "                               # by multiplying the original matrix\n",
    "                               # with eigenvector\n",
    "    return V,Yn,D"
   ]
  },
  {
   "cell_type": "markdown",
   "metadata": {
    "deletable": true,
    "editable": true
   },
   "source": [
    "All of the above codes must be run (executed) first before we continue to the second example. \n",
    "Now, we have a PCA function ready and we will be implementing it on a simple toy data set to gain better understanding about PCA in the following tutorial."
   ]
  },
  {
   "cell_type": "markdown",
   "metadata": {
    "deletable": true,
    "editable": true
   },
   "source": [
    "## Tutorial 2: understanding PCA on a simple toy data\n",
    "\n",
    "Now, we will apply PCA function to a simple toy data set. First we import all necessary libraries. Note numpy and PCA function may not be necessary to be imported if you have run the codes above (we have commented those). \n",
    "Alternatively, you can save all of the above codes as a function named <i>pyPCA.py</i> and uncommented the first two lines.\n",
    "The third line imports a plotting library for the Python language."
   ]
  },
  {
   "cell_type": "code",
   "execution_count": 4,
   "metadata": {
    "collapsed": false,
    "deletable": true,
    "editable": true
   },
   "outputs": [
    {
     "name": "stderr",
     "output_type": "stream",
     "text": [
      "//anaconda/lib/python2.7/site-packages/matplotlib/font_manager.py:273: UserWarning: Matplotlib is building the font cache using fc-list. This may take a moment.\n",
      "  warnings.warn('Matplotlib is building the font cache using fc-list. This may take a moment.')\n"
     ]
    }
   ],
   "source": [
    "# from pyPCA import PCA # This imports the PCA function (which we created)\n",
    "# import numpy as np    # This imports numerical python (numpy) library\n",
    "import matplotlib.pyplot as plt # This imports matplotlib library for plotting"
   ]
  },
  {
   "cell_type": "markdown",
   "metadata": {
    "deletable": true,
    "editable": true
   },
   "source": [
    "It is crucial to normalize the original data before applying PCA. In the data, some variables may\n",
    "have large variance and some other variables may contain small variances. Without normalization, the\n",
    "variables with large variance will be dominating the first PCs. \n",
    "Z-scores is one of popular normalization methods. \n",
    "It converts all variables to a common scale with an average of zero and standard deviation of one. \n",
    "Z-score is defined mathematically as zscore$=(x-\\mu_x)/\\sigma_x$ and this function can be coded as:"
   ]
  },
  {
   "cell_type": "code",
   "execution_count": 5,
   "metadata": {
    "collapsed": true,
    "deletable": true,
    "editable": true
   },
   "outputs": [],
   "source": [
    "# We define normalization function here, that is zscore function\n",
    "# It is also known as standard score\n",
    "def zscore(X): # z-score uses to normalise the data.\n",
    "    [nX,mX]=X.shape              # X has NxD\n",
    "    XMean=np.mean(X,axis=0)      # take the mean of every row X\n",
    "    XStd=np.std(X,axis=0,ddof=1) # take the std of every row X\n",
    "    zX = X - np.kron(np.ones((nX,1)),XMean) # Z=[X - mX]\n",
    "    Zscore = np.divide(zX,XStd)             # Zscore = Z/Xstd\n",
    "    return Zscore"
   ]
  },
  {
   "cell_type": "markdown",
   "metadata": {
    "deletable": true,
    "editable": true
   },
   "source": [
    "Next, we create a simple data as an array shown below and then we normalize the data using <i>zscore</i> function (created above) and plot the normalized data.\n",
    "The output is a Figure showing the original data in its dimensional space (before any PCA transformation)."
   ]
  },
  {
   "cell_type": "code",
   "execution_count": 6,
   "metadata": {
    "collapsed": false,
    "deletable": true,
    "editable": true
   },
   "outputs": [
    {
     "data": {
      "image/png": "[encoded data removed]",
      "text/plain": [
       "<matplotlib.figure.Figure at 0x10df48510>"
      ]
     },
     "metadata": {},
     "output_type": "display_data"
    }
   ],
   "source": [
    "# First we create synthetic dataset\n",
    "t=np.linspace(0,2*np.pi,13) \n",
    "A=1; B=1; x0=1.5; y0=1.5; angle=-45\n",
    "x=A*np.cos(t+angle)+x0\n",
    "y=B*np.sin(t)+y0\n",
    "Xdata=np.column_stack([x,y])\n",
    "\n",
    "# Next, we normalize the data\n",
    "X=zscore(Xdata) \n",
    "\n",
    "# Plot the original data first (normalized)\n",
    "plt.figure(1)\n",
    "plt.plot(X[:,0],X[:,1],'bo') # re-plot the data\n",
    "plt.xlabel('X1')\n",
    "plt.ylabel('X2')\n",
    "\n",
    "plt.title('Original data prior to PCA transformation')\n",
    "plt.xlabel('Feature 1')\n",
    "plt.ylabel('Feature 2')\n",
    "plt.ylim(ymin=-2.0, ymax=2.0)\n",
    "plt.xlim(xmin=-2, xmax=2)\n",
    "plt.grid()\n",
    "plt.show()"
   ]
  },
  {
   "cell_type": "markdown",
   "metadata": {
    "deletable": true,
    "editable": true
   },
   "source": [
    "Then, we apply <i>PCA</i> function which returns eigenvectors, new transformation data and eigenvalues.\n",
    "Then, we print eigenvalues associated with two PCs. The results indicate that the highest variance\n",
    "is held in the first PCs with variance of 1.83 in comparison of second PC with variance of\n",
    "0.16."
   ]
  },
  {
   "cell_type": "code",
   "execution_count": 7,
   "metadata": {
    "collapsed": false,
    "deletable": true,
    "editable": true
   },
   "outputs": [
    {
     "name": "stdout",
     "output_type": "stream",
     "text": [
      "Eigenvalues D: [ 1.83339613  0.16660387]\n"
     ]
    }
   ],
   "source": [
    "# Applying PCA\n",
    "V,Ypca,D = PCA(X)            # perform PCA, where V, Ypca and D are\n",
    "                             # eigenvectors, new transformation and eigenvalues,\n",
    "                             # respectively\n",
    "print \"Eigenvalues D: %s\" % D"
   ]
  },
  {
   "cell_type": "markdown",
   "metadata": {
    "deletable": true,
    "editable": true
   },
   "source": [
    "PCA transforms the original data space to PC space where the highest information is held by the first PC. PCA will be extremely beneficial when we deal with high dimensional data sets, so we can discard unneccesary PCs which contain very low variance. \n",
    "This type of problem will be tested on real chemical data in the final tutorial.\n",
    "The following code is to plot the original data together with the new transformation data as well\n",
    "as their eigenvector (PCs) as the direction. The produced Figure demonstrates how the original data (blue\n",
    "dots) rotate to form new transformation data (red dots)."
   ]
  },
  {
   "cell_type": "code",
   "execution_count": 8,
   "metadata": {
    "collapsed": false,
    "deletable": true,
    "editable": true
   },
   "outputs": [
    {
     "data": {
      "image/png": "[encoded data removed]",
      "text/plain": [
       "<matplotlib.figure.Figure at 0x10df50590>"
      ]
     },
     "metadata": {},
     "output_type": "display_data"
    }
   ],
   "source": [
    "hV=V[:,0] # get the highest eigenvector\n",
    "hD=D[0]   # get the highest eigenvalues\n",
    "lV=V[:,1] # get the lowest eigenvector\n",
    "lD=D[1]   # get the lowest eigenvalues\n",
    "\n",
    "# We re-plot the original Figure\n",
    "plt.figure(1)\n",
    "plt.plot(X[:,0],X[:,1],'bo') # re-plot the data\n",
    "plt.xlabel('X1')\n",
    "plt.ylabel('X2')\n",
    "\n",
    "# for plotting eigenvectors into 2-D map\n",
    "X0=np.mean(X[:,0])\n",
    "Y0=np.mean(X[:,1])\n",
    "Uh1=hV[0]*np.sqrt(hD)\n",
    "Uh2=hV[1]*np.sqrt(hD)\n",
    "Ul1=lV[0]*np.sqrt(lD)\n",
    "Ul2=lV[1]*np.sqrt(lD)\n",
    "\n",
    "# Plot the eigenvectors\n",
    "plt.quiver(X0, Y0, Uh1, Uh2, color='g', units='x',\n",
    "               linewidths=(2,), edgecolors=('g'), headaxislength=5)\n",
    "plt.quiver(X0, Y0, Ul1, Ul2, color='r', units='x',\n",
    "               linewidths=(2,), edgecolors=('r'), headaxislength=5)\n",
    "\n",
    "plt.plot(Ypca[:,0],Ypca[:,1],'ro') # plot the data after transformation\n",
    "plt.title('After PCA transformation')\n",
    "plt.xlabel('PC1')\n",
    "plt.ylabel('PC2')\n",
    "plt.ylim(ymin=-2.0, ymax=2.0)\n",
    "plt.xlim(xmin=-2, xmax=2)\n",
    "plt.grid()\n",
    "plt.show()"
   ]
  },
  {
   "cell_type": "markdown",
   "metadata": {
    "deletable": true,
    "editable": true
   },
   "source": [
    "## Tutorial 3: dimensionality reduction on chemical wine data\n",
    "In this tutorial, we will use real experimental data, representing chemical wine data set. These data are the\n",
    "results of a chemical analysis of wines grown in the same region in Italy but derived from three\n",
    "different cultivars. The analysis determined the quantities of 13 constituents found in each of the\n",
    "three types of wines, they are listed on the table below.\n",
    "\n",
    "<table>\n",
    "  <tr>\n",
    "    <th>Feature No.</th>\n",
    "    <th>Wine Chemical Composition</th> \n",
    "  </tr>\n",
    "  <tr>\n",
    "    <td>1</td>\n",
    "    <td>Alcohol</td>\n",
    "  </tr>\n",
    "  <tr>\n",
    "    <td>2</td>\n",
    "    <td>Malic acid</td>\n",
    "  </tr>\n",
    "  <tr>\n",
    "    <td>3</td>\n",
    "    <td>Ash</td>\n",
    "  </tr>\n",
    "  <tr>\n",
    "    <td>4</td>\n",
    "    <td>Alcalinity of ash</td>\n",
    "  </tr>\n",
    "  <tr>\n",
    "    <td>5</td>\n",
    "    <td>Magnesium</td>\n",
    "  </tr>\n",
    "  <tr>\n",
    "    <td>6</td>\n",
    "    <td>Total phenols</td>\n",
    "  </tr>\n",
    "  <tr>\n",
    "    <td>7</td>\n",
    "    <td>Flavanoids</td>\n",
    "  </tr>\n",
    "  <tr>\n",
    "    <td>8</td>\n",
    "    <td>Nonavanoid phenols</td>\n",
    "  </tr>\n",
    "  <tr>\n",
    "    <td>9</td>\n",
    "    <td>Proanthocyanins</td>\n",
    "  </tr>\n",
    "  <tr>\n",
    "    <td>10</td>\n",
    "    <td>Color intensity</td>\n",
    "  </tr>\n",
    "  <tr>\n",
    "    <td>11</td>\n",
    "    <td>Hue</td>\n",
    "  </tr>\n",
    "  <tr>\n",
    "    <td>12</td>\n",
    "    <td>OD280/OD315 of diluted wines</td>\n",
    "  </tr>\n",
    "  <tr>\n",
    "    <td>13</td>\n",
    "    <td>Proline</td>\n",
    "  </tr>\n",
    "  <caption>Wine chemical composition*\n",
    "  \n",
    "  *Lichman, M. (2013). UCI Machine Learning Repository [http://archive.ics.uci.edu/ml]. Irvine, CA: University of California, School of Information and Computer Science</caption>\n",
    "</table><br>\n",
    "\n",
    "The data files are named as <i>wineInputs.txt</i> and <i>wineOutputs.txt</i>, contains 178 samples. In this tutorial, the objective is to\n",
    "reduce the dimensionality of redundant descriptors in the wine data by applying PCA. There is no exercise here, but this tutorial will be used later for the exercise on the following topics (Kmeans and Neural Network)."
   ]
  },
  {
   "cell_type": "code",
   "execution_count": 10,
   "metadata": {
    "collapsed": false,
    "deletable": true,
    "editable": true
   },
   "outputs": [
    {
     "data": {
      "image/png": "[encoded data removed]",
      "text/plain": [
       "<matplotlib.figure.Figure at 0x110ad4890>"
      ]
     },
     "metadata": {},
     "output_type": "display_data"
    }
   ],
   "source": [
    "from pyPCA import PCA\n",
    "import numpy as np\n",
    "from mpl_toolkits.mplot3d import Axes3D\n",
    "import matplotlib.pyplot as plt\n",
    "\n",
    "# We redefined zscore here\n",
    "def zscore(X): # z-score uses to normalise the data.\n",
    "    [nX,mX]=X.shape              # X has NxD\n",
    "    XMean=np.mean(X,axis=0)      # take the mean of every row X\n",
    "    XStd=np.std(X,axis=0,ddof=1) # take the std of every row X\n",
    "    zX = X - np.kron(np.ones((nX,1)),XMean) # Z=[X - mX]\n",
    "    Zscore = np.divide(zX,XStd)             # Zscore = Z/Xstd\n",
    "    return Zscore\n",
    "\n",
    "# First, we load input/output data\n",
    "dataIn = np.genfromtxt('./data/wineInputs.txt', delimiter=',')\n",
    "dataOut = np.genfromtxt('./data/wineOutputs.txt', delimiter=',')\n",
    "\n",
    "dataOut=np.int_(dataOut) # Since the output is the classes, we convert the output data to be integer\n",
    "\n",
    "X=zscore(dataIn) # Apply normalization\n",
    "\n",
    "[V, Ypca ,D] = PCA(X) # Applying PCA\n",
    "\n",
    "# The number of Pricipal Component (PC) = the number of eigenvalues (D)\n",
    "noPC=np.linspace(1,len(D),len(D)) # Create the list of PCs \n",
    "\n",
    "# Normalized cumulative sum (cumsum)\n",
    "# Here, we try to obtain the normalized of cumulative sum (cumsum) of eigenvalues\n",
    "idc=np.divide(np.cumsum(D),np.sum(D)) \n",
    "\n",
    "# We plot normalized cumulative sum to understand the contributions of the obtained PCs\n",
    "plt.figure(1)\n",
    "plt.plot(noPC,idc,'bo') # re-plot the data\n",
    "plt.xlabel('no PC')\n",
    "plt.ylabel('cumsum')\n",
    "plt.title('Normalized cumulative sum')\n",
    "plt.grid()\n",
    "plt.show()\n",
    "\n",
    "# We will use this Figure for clustering later"
   ]
  }
 ],
 "metadata": {
  "anaconda-cloud": {},
  "kernelspec": {
   "display_name": "Python 2",
   "language": "python",
   "name": "python2"
  },
  "language_info": {
   "codemirror_mode": {
    "name": "ipython",
    "version": 2
   },
   "file_extension": ".py",
   "mimetype": "text/x-python",
   "name": "python",
   "nbconvert_exporter": "python",
   "pygments_lexer": "ipython2",
   "version": "2.7.12+"
  }
 },
 "nbformat": 4,
 "nbformat_minor": 1
}
