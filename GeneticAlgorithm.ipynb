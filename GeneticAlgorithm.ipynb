{
 "cells": [
  {
   "cell_type": "markdown",
   "metadata": {
    "collapsed": true,
    "deletable": true,
    "editable": true
   },
   "source": [
    "# Genetic Algorithm\n",
    "\n",
    "GA is a simple optimisation algorithm that mimics evolution. It starts with a random population of elements, and evaluates how <i>fit for survival</i> they are. Elements are then randomly selected in pairs to mate and produce a new generation of offspring. The selection ensures that elements with higher fitness are more likely to be chosen for mating, thus increasing the chances that their offspring retains the characteristics that made their parents fit in the first place. Random mutation can also appear.<br>\n",
    "If an optimisation problem is too complex to be solved via gradient descent methods, GA can still give an answer.<br><br>\n",
    "In this tutorial we are going to use GA to find a set of parameters that fit a signal.<br>\n",
    "More details about the GA are given in the following sections."
   ]
  },
  {
   "cell_type": "code",
   "execution_count": null,
   "metadata": {
    "collapsed": false,
    "deletable": true,
    "editable": true
   },
   "outputs": [],
   "source": [
    "# IMPORTS\n",
    "import math\n",
    "import random\n",
    "import numpy\n",
    "import matplotlib.pyplot as plt"
   ]
  },
  {
   "cell_type": "markdown",
   "metadata": {
    "collapsed": true,
    "deletable": true,
    "editable": true
   },
   "source": [
    "##### Definition of element\n",
    "\n",
    "In this example, an element represents a composite wave signal $W(t) = \\sum_{k=1}^n A_k \\cos\\left( 2\\pi k t\\right)$.<br><br>\n",
    "Thus, the element can be represented by the list of amplitudes for each wave component: $\\mathbf{e} = \\{ A_1, A_2, ... A_n\\}$.<br><br>\n",
    "The training set is a collection of (t,y) points corresponding to the signal we are trying to fit."
   ]
  },
  {
   "cell_type": "code",
   "execution_count": null,
   "metadata": {
    "collapsed": false,
    "deletable": true,
    "editable": true
   },
   "outputs": [],
   "source": [
    "# set a decent population size to work with\n",
    "populationSize = 100\n",
    "\n",
    "# set the amount of plane waves\n",
    "nWaves = 5\n",
    "\n",
    "# create a random population\n",
    "# each amplitude is a random number between -1 and 1\n",
    "population = 2 * numpy.random.rand(populationSize, nWaves) - 1\n",
    "\n",
    "# print the first 2 elements to see what we are dealing with!\n",
    "print population[0:3]\n",
    "\n",
    "# load a training set\n",
    "trainT = numpy.load(\"./data/ga-train-T.npy\") # time values\n",
    "trainY = numpy.load(\"./data/ga-train-Y.npy\") # corresponding signal values\n",
    "\n",
    "# plot the training set\n",
    "plt.plot(trainT, trainY, 'o')\n",
    "plt.show()"
   ]
  },
  {
   "cell_type": "markdown",
   "metadata": {
    "collapsed": true,
    "deletable": true,
    "editable": true
   },
   "source": [
    "##### Mixing elements\n",
    "\n",
    "After the population is evaluated, we take pairs of elements at random, and mix them to produce an offspring population.\n",
    "The simplest mixing function would be the one that assign each DNA component of the offspring from either parent at \n",
    "random."
   ]
  },
  {
   "cell_type": "code",
   "execution_count": null,
   "metadata": {
    "collapsed": false,
    "deletable": true,
    "editable": true
   },
   "outputs": [],
   "source": [
    "# define the mixing function\n",
    "def Mix(father, mother):\n",
    "\n",
    "    # create an empty child\n",
    "    child = numpy.zeros(father.shape)\n",
    "    \n",
    "    # loop through the genes\n",
    "    for c in xrange(len(child)):\n",
    "        r = random.random() # random uniform number\n",
    "        if r>0.5:\n",
    "            child[c] = father[c] # take from father, OR ...\n",
    "        else:\n",
    "            child[c] = mother[c] # take from mother\n",
    "\n",
    "    return child"
   ]
  },
  {
   "cell_type": "markdown",
   "metadata": {
    "collapsed": true,
    "deletable": true,
    "editable": true
   },
   "source": [
    "##### Mutating elements\n",
    "\n",
    "Occasionally, mutation can appear when mixing two elements. There are several ways to implement mutations, but here we stick to simplicity. A mutation adds a random value to one random gene of the element. <br>\n",
    "Mutations should be rare or they will mess up the evolution!"
   ]
  },
  {
   "cell_type": "code",
   "execution_count": null,
   "metadata": {
    "collapsed": false,
    "deletable": true,
    "editable": true
   },
   "outputs": [],
   "source": [
    "# define the mixing function\n",
    "def Mutate(element):\n",
    "\n",
    "    # random index of the gene to mutate\n",
    "    idx = numpy.random.randint(0, nWaves)\n",
    "    # random amount to add - between -1 and 1\n",
    "    r = 2*numpy.random.rand()-1\n",
    "    # apply the mutation\n",
    "    element[idx] += r\n",
    "\n",
    "    \n",
    "# also define the probability of mutation occurring\n",
    "mutationRate = 0.001 # -> on average, 0.1% of offspring will have a mutation\n"
   ]
  },
  {
   "cell_type": "markdown",
   "metadata": {
    "collapsed": true,
    "deletable": true,
    "editable": true
   },
   "source": [
    "##### Evaluating fitness\n",
    "\n",
    "This function takes in the element descriptor, performs the calculations necessary to estimate how well it performs, and returns its fitness.<br>\n",
    "It is actually easy to calculate its badness (mean square error) and flip the sign. This way, the perfect element will have 0 fitness, while any mismatch with the training will give a negative value."
   ]
  },
  {
   "cell_type": "code",
   "execution_count": null,
   "metadata": {
    "collapsed": true,
    "deletable": true,
    "editable": true
   },
   "outputs": [],
   "source": [
    "def EvaluateFitness(element):\n",
    "\n",
    "    # prepare a 0 array\n",
    "    y = numpy.zeros(len(trainT))\n",
    "    freq = 1 # starting frequency\n",
    "    \n",
    "    for amp in element: # loop through the amplitudes\n",
    "        y += amp * numpy.cos(2*numpy.pi*freq*trainT) # add the wave\n",
    "        freq += 1 # increment the frequency for the next wave\n",
    "    \n",
    "    # compute square error\n",
    "    y = (y-trainY)*(y-trainY)\n",
    "    \n",
    "    return -numpy.mean(y)"
   ]
  },
  {
   "cell_type": "markdown",
   "metadata": {
    "deletable": true,
    "editable": true
   },
   "source": [
    "##### Evolving...\n",
    "\n",
    "Let the population evolve!"
   ]
  },
  {
   "cell_type": "code",
   "execution_count": null,
   "metadata": {
    "collapsed": true,
    "deletable": true,
    "editable": true
   },
   "outputs": [],
   "source": [
    "# USE THIS TO RESET THE POPULATION\n",
    "# DO NOT RUN IF NOT NEEDED!\n",
    "population = 2 * numpy.random.rand(populationSize, nWaves) - 1"
   ]
  },
  {
   "cell_type": "code",
   "execution_count": null,
   "metadata": {
    "collapsed": false,
    "deletable": true,
    "editable": true
   },
   "outputs": [],
   "source": [
    "# number of generations to compute\n",
    "nGens = 30\n",
    "\n",
    "stats = numpy.zeros((nGens,3))\n",
    "best = None\n",
    "\n",
    "# start the evolution loop!\n",
    "for g in xrange(nGens):\n",
    "\n",
    "    # evaluate all elements\n",
    "    fitness = numpy.apply_along_axis(EvaluateFitness,1,population)\n",
    "    # sort the elements by fitness\n",
    "    order = numpy.argsort(-fitness)\n",
    "    ordered = numpy.asarray([population[i] for i in order])\n",
    "\n",
    "    # save some statistics and info\n",
    "    stats[g,0] = -fitness[order[0]]\n",
    "    stats[g,1] = -numpy.mean(fitness)\n",
    "    stats[g,2] = -fitness[order[populationSize-1]]\n",
    "    best = ordered[0]\n",
    "    \n",
    "    # select pairs at random\n",
    "    indexes = numpy.random.triangular(0,0,1, populationSize*2)\n",
    "    indexes = (numpy.floor((populationSize)*indexes)).astype(numpy.int)\n",
    "    \n",
    "    idx = 0\n",
    "    for p in xrange(populationSize):\n",
    "\n",
    "        p1 = ordered[indexes[idx]]; idx += 1\n",
    "        p2 = ordered[indexes[idx]]; idx += 1\n",
    "        # mix the two\n",
    "        child = Mix(p1, p2)\n",
    "        # mutate if needed\n",
    "        r = numpy.random.rand()\n",
    "        if r < mutationRate:\n",
    "            Mutate(child)\n",
    "        # save it in the population\n",
    "        population[p] = child"
   ]
  },
  {
   "cell_type": "code",
   "execution_count": null,
   "metadata": {
    "collapsed": false,
    "deletable": true,
    "editable": true
   },
   "outputs": [],
   "source": [
    "# evolution plot\n",
    "plt.plot(stats[:,0],'o-', label='best')\n",
    "plt.plot(stats[:,1],'o-', label='average')\n",
    "plt.plot(stats[:,2],'o-', label='worst')\n",
    "plt.legend()\n",
    "plt.show()"
   ]
  },
  {
   "cell_type": "code",
   "execution_count": null,
   "metadata": {
    "collapsed": false,
    "deletable": true,
    "editable": true
   },
   "outputs": [],
   "source": [
    "# best element info\n",
    "print best\n",
    "t = numpy.arange(0,1,0.01)\n",
    "y = t * 0\n",
    "freq = 1 # starting frequency\n",
    "\n",
    "for amp in best: # loop through the amplitudes\n",
    "    y += amp * numpy.cos(2*numpy.pi*freq*t) # add the wave\n",
    "    freq += 1 # increment the frequency for the next wave\n",
    "        \n",
    "plt.plot(trainT, trainY, 'o', label='training points')\n",
    "plt.plot(t, y, '-', label='latest model')\n",
    "plt.legend()\n",
    "plt.show()\n"
   ]
  },
  {
   "cell_type": "markdown",
   "metadata": {
    "deletable": true,
    "editable": true
   },
   "source": [
    "##### Final remarks\n",
    "Do not be fooled by the speed of this example... in real applications, training an AI with GA can take up to several weeks on supercomputers.<br>\n",
    "You can see one in action <a href=\"www.nanolayers.com/copter/\">here!</a> Try to beat it!"
   ]
  },
  {
   "cell_type": "code",
   "execution_count": null,
   "metadata": {
    "collapsed": true,
    "deletable": true,
    "editable": true
   },
   "outputs": [],
   "source": []
  }
 ],
 "metadata": {
  "kernelspec": {
   "display_name": "Python 2",
   "language": "python",
   "name": "python2"
  },
  "language_info": {
   "codemirror_mode": {
    "name": "ipython",
    "version": 2
   },
   "file_extension": ".py",
   "mimetype": "text/x-python",
   "name": "python",
   "nbconvert_exporter": "python",
   "pygments_lexer": "ipython2",
   "version": "2.7.12+"
  }
 },
 "nbformat": 4,
 "nbformat_minor": 2
}
