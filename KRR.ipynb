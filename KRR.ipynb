{
 "cells": [
  {
   "cell_type": "markdown",
   "metadata": {
    "collapsed": true,
    "deletable": true,
    "editable": true
   },
   "source": [
    "# Kernel Ridge Regression\n",
    "We will now use KRR to model the atomisation energy of organic molecules.<br>\n",
    "All we need is a <i>distance</i> (or kernel) function that compares two molecules. Finding such function is non-trivial since it has to compare object of different size, regardless of their relative rotation and position.<br>\n",
    "We introduce Coulomb matrixes as compressed descriptors. Given atomic positions and charges, the Coulomb matrix C is:<br><br>\n",
    "C<sub>ij</sub> = Z<sub>i</sub> Z<sub>j</sub> / R<sub>ij</sub> &nbsp;&nbsp;&nbsp; when i != j<br>\n",
    "C<sub>ii</sub> = Z<sub>i</sub><sup>2.4</sup>/2<br><br>\n",
    "By diagonalising the matrix we obtain a representation that is also invariant w.r.t. the ordering of the atoms.<br>\n",
    "The kernel function <i>d</i> can be defined as the euclidean norm between the eigenvalues of Coulomb matrixes. If a molecule has more atoms than the other, we just complement it with zeros (already present in the loaded database).<br><br>\n",
    "More info in: M. Rupp, et al., <br>\n",
    "Fast and Accurate Modeling of Molecular Atomization Energies with Machine Learning,<br>\n",
    "Physical Review Letters, <b>108</b>, 058301 (2012)<br><br>\n",
    "Try to build the nodebook with the following instructions.<br>\n",
    "\n",
    "##### Useful functions\n",
    "\n",
    "<b>matrix = numpy.zeros((nr, nc))</b><br>\n",
    "create a matrix with nr rows and nc columns, filled with zeros.<br><br>\n",
    "\n",
    "<b>numpy.linalg.norm(x)</b><br>\n",
    "computes the euclidean norm of a vector x.<br><br>\n",
    "\n",
    "<b>numpy.linalg.inv(A)</b><br>\n",
    "computes the inverse of matrix A.<br><br>\n",
    "\n",
    "<b>numpy.dot(a, b)</b><br>\n",
    "Scalar product: a and b can be matrixes or vectors.<br><br>\n",
    "\n",
    "<b>numpy.transpose(A)</b><br>\n",
    "Returns the transpose of A."
   ]
  },
  {
   "cell_type": "code",
   "execution_count": 1,
   "metadata": {
    "collapsed": false,
    "deletable": true,
    "editable": true
   },
   "outputs": [
    {
     "name": "stderr",
     "output_type": "stream",
     "text": [
      "//anaconda/lib/python2.7/site-packages/matplotlib/font_manager.py:273: UserWarning: Matplotlib is building the font cache using fc-list. This may take a moment.\n",
      "  warnings.warn('Matplotlib is building the font cache using fc-list. This may take a moment.')\n"
     ]
    }
   ],
   "source": [
    "import numpy\n",
    "import math\n",
    "from matplotlib import pyplot as plt\n",
    "\n",
    "# The database has 1000 small molecules, max 23 atoms\n",
    "\n",
    "# load the processed Coulomb matrixes\n",
    "molecules = numpy.loadtxt('data/krr-evals.txt')\n",
    "\n",
    "# load the DFT atomisation energy of each molecule\n",
    "energies = numpy.loadtxt('data/krr-PBE0energies.txt')\n",
    "\n",
    "# split the data into training/validation\n",
    "\n",
    "nTrain = 700\n",
    "# take some as a training set\n",
    "trainM = molecules[0:nTrain]\n",
    "trainE = energies[0:nTrain]\n",
    "\n",
    "nValid = 300\n",
    "# take some other as validation\n",
    "validM = molecules[nTrain:nTrain+nValid]\n",
    "validE = energies[nTrain:nTrain+nValid]\n",
    "\n",
    "# training hyperparameter: chose yours between [0,1[\n",
    "alpha = 0.1"
   ]
  },
  {
   "cell_type": "markdown",
   "metadata": {
    "deletable": true,
    "editable": true
   },
   "source": [
    "We need to build the kernel matrix: <br>\n",
    "K<sub>ij</sub> = <i>d</i> (M<sub>i</sub>, M<sub>j</sub>) - alpha I<sub>ij</sub><br>\n",
    "for all molecules in the training set. I<sub>ij</sub> is the identity matrix."
   ]
  },
  {
   "cell_type": "code",
   "execution_count": 3,
   "metadata": {
    "collapsed": false,
    "deletable": true,
    "editable": true
   },
   "outputs": [],
   "source": [
    "# start with a 0 matrix of the right size\n",
    "kmatrix = numpy.zeros((nTrain,nTrain))\n",
    "\n",
    "for i in xrange(nTrain):\n",
    "    for j in xrange(0,i+1):\n",
    "        \n",
    "        # compute the distance between molecule i and j\n",
    "        kmatrix[i,j] = numpy.linalg.norm(trainM[i]-trainM[j])\n",
    "        \n",
    "        # it is the same between j and i!\n",
    "        kmatrix[j,i] = kmatrix[i,j]\n",
    "    \n",
    "    # add the -alpha on the diagonal\n",
    "    kmatrix[i,i] -= alpha\n",
    "\n",
    "# invert the matrix\n",
    "kmatrix = numpy.linalg.inv(kmatrix)"
   ]
  },
  {
   "cell_type": "markdown",
   "metadata": {
    "deletable": true,
    "editable": true
   },
   "source": [
    "Then we need to evaluate the distance between all validation molecules and the training ones.<br>\n",
    "Build this matrix (nValid rows, nTrain columns).<br><br>\n",
    "The <i>i</i>-th row of this matrix is a vector D[V<sub>i</sub>] whose components are the distances between the <i>i</i>-th validation molecule V<sub>i</sub>, and all training molecules M<sub>j</sub>."
   ]
  },
  {
   "cell_type": "code",
   "execution_count": 5,
   "metadata": {
    "collapsed": false,
    "deletable": true,
    "editable": true
   },
   "outputs": [],
   "source": [
    "Dmatrix = numpy.zeros((nValid,nTrain))\n",
    "for i in xrange(nValid):\n",
    "    for j in xrange(nTrain):\n",
    "        Dmatrix[i,j]=numpy.linalg.norm(validM[i]-trainM[j])"
   ]
  },
  {
   "cell_type": "markdown",
   "metadata": {
    "deletable": true,
    "editable": true
   },
   "source": [
    "The predicted energy for a validation molecule V<sub>i</sub> is then: e<sub>training</sub>.K<sup>-1</sup>.D[V<sub>i</sub>] <br>\n",
    "where e<sub>training</sub> is the vector of energies of the training molecules.<br><br>\n",
    "We can compute atomisation energy for all validation energies in one go using the whole D matrix instead: <br>\n",
    "e<sub>prediction</sub> = e<sub>training</sub>.K<sup>-1</sup>.D<sup>T</sup>"
   ]
  },
  {
   "cell_type": "code",
   "execution_count": 6,
   "metadata": {
    "collapsed": false,
    "deletable": true,
    "editable": true
   },
   "outputs": [
    {
     "data": {
      "image/png": "[encoded data removed]",
      "text/plain": [
       "<matplotlib.figure.Figure at 0x110411c90>"
      ]
     },
     "metadata": {},
     "output_type": "display_data"
    }
   ],
   "source": [
    "Epredict = numpy.dot(trainE,numpy.dot(kmatrix,numpy.transpose(Dmatrix)))\n",
    "\n",
    "# compute the average error and show the regression plot\n",
    "plt.plot(validE,Epredict,'o')\n",
    "plt.show()"
   ]
  },
  {
   "cell_type": "code",
   "execution_count": null,
   "metadata": {
    "collapsed": true
   },
   "outputs": [],
   "source": []
  }
 ],
 "metadata": {
  "anaconda-cloud": {},
  "kernelspec": {
   "display_name": "Python 2",
   "language": "python",
   "name": "python2"
  },
  "language_info": {
   "codemirror_mode": {
    "name": "ipython",
    "version": 2
   },
   "file_extension": ".py",
   "mimetype": "text/x-python",
   "name": "python",
   "nbconvert_exporter": "python",
   "pygments_lexer": "ipython2",
   "version": "2.7.12"
  }
 },
 "nbformat": 4,
 "nbformat_minor": 2
}
