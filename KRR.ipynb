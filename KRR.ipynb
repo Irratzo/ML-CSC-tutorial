{
 "cells": [
  {
   "cell_type": "markdown",
   "metadata": {
    "deletable": true,
    "editable": true
   },
   "source": [
    "# Kernel Ridge Regression\n",
    "\n",
    "## Introduction\n",
    "\n",
    "KRR is a one of the ML methods to perform regression (fitting).\n",
    "\n",
    "In practice, we use kernel function $d$ that measures the distance between two data points.\n",
    "With the function we build the kernel matrix:\n",
    "\n",
    "\\begin{equation}\n",
    "K_{ij} =  d(M_{i}, M_{j}) - \\alpha I_{ij}\n",
    "\\end{equation}\n",
    "\n",
    "for all pairs of samples $M_i$ and $M_j$ in the training set. $I_{ij}$ is the identity matrix and $\\alpha$ is a hyperparameter chosen between 0 and 1.\n",
    "\n",
    "When we want to predict the output of a new sample or set of samples that were not in the training set, we need to first evaluate the distance between them and the training samples:\n",
    "\n",
    "\\begin{equation}\n",
    "D_{ij} =  d(T_{i}, M_{j})\n",
    "\\end{equation}\n",
    "\n",
    "where $T_i$ is one of the new samples. The output prediction $\\mathbf{y_T}$ for the test set $T$ is obtained by:\n",
    "\n",
    "\\begin{equation}\n",
    "\\mathbf{y_T} = \\mathbf{y_M} \\cdot K^{-1} \\cdot D^T\n",
    "\\end{equation}\n",
    "\n",
    "where $\\mathbf{y_M}$ is the vector of known outputs for the training set $M$."
   ]
  },
  {
   "cell_type": "markdown",
   "metadata": {
    "deletable": true,
    "editable": true
   },
   "source": [
    "## Tutorial 1: fitting simple toy data\n",
    "\n",
    "We are going to use KRR to fit the same data from the neural network notebook."
   ]
  },
  {
   "cell_type": "code",
   "execution_count": null,
   "metadata": {
    "collapsed": false,
    "deletable": true,
    "editable": true
   },
   "outputs": [],
   "source": [
    "from pyKRR import KRRsolver  # import our KRR solver object\n",
    "import numpy, random, math\n",
    "from matplotlib import pyplot as plt\n",
    "\n",
    "# This function takes a 2-element vector p=[x,y] and computes z\n",
    "# same as in the NN example!\n",
    "def Model(p):\n",
    "    result = [math.sin(0.4*p[0] - 0.3*p[1] + 0.2*p[0]*p[1])]\n",
    "    result[0] += (2*random.random()-1)*0.1;\n",
    "    return result\n",
    "\n",
    "# generate some data to play with...\n",
    "# training points\n",
    "nTrainPts = 100\n",
    "trainIn = 2*numpy.random.rand(nTrainPts,2) -1 # (x,y) points beween -1 and 1\n",
    "\n",
    "# validation points\n",
    "nValidPts = 40\n",
    "validIn = 2*numpy.random.rand(nValidPts,2)-1\n",
    " \n",
    "# apply Model to the points to compute z for the two sets\n",
    "trainOut = numpy.apply_along_axis(Model, 1, trainIn).flatten()\n",
    "validOut = numpy.apply_along_axis(Model, 1, validIn).flatten()\n",
    "\n",
    "# create a new solver\n",
    "solver = KRRsolver()\n",
    "\n",
    "# set the hyperparameter\n",
    "solver.alpha = 0.5\n",
    "\n",
    "# call its training function with the training inputs and outputs\n",
    "solver.Train(trainIn, trainOut)\n",
    "\n",
    "# get a list of predicted outputs for the validation inputs\n",
    "predict = solver.Evaluate(validIn)\n",
    "\n",
    "# do the regression plot\n",
    "plt.plot(validOut, predict, 'o')\n",
    "plt.plot([-1,1], [-1,1], '-')\n",
    "plt.xlabel('correct output')\n",
    "plt.ylabel('KRR output')\n",
    "plt.show()"
   ]
  },
  {
   "cell_type": "markdown",
   "metadata": {
    "collapsed": true,
    "deletable": true,
    "editable": true
   },
   "source": [
    "## Chemical Data\n",
    "\n",
    "We will now use KRR to model the atomisation energy of organic molecules.\n",
    "\n",
    "All we need is a <i>distance</i> (or kernel) function that compares two molecules. Finding such function is non-trivial since it has to compare object of different size, regardless of their relative rotation and position.\n",
    "\n",
    "We introduce Coulomb matrixes (CMs) as compressed descriptors. Given atomic positions and charges, the Coulomb matrix C is:<br><br>\n",
    "C<sub>ij</sub> = Z<sub>i</sub> Z<sub>j</sub> / R<sub>ij</sub> &nbsp;&nbsp;&nbsp; when i != j<br>\n",
    "C<sub>ii</sub> = Z<sub>i</sub><sup>2.4</sup>/2<br>\n",
    "\n",
    "The CM is then diagonalised and the sorted eigenvalues are used as descriptor, which is invariant w.r.t. the ordering of the atoms, and rotation-translations of the system.\n",
    "\n",
    "The kernel function <i>d</i> can be defined as the euclidean norm between the eigenvalues of CMs. If a molecule has more atoms than the other, we just complement the eigenvalues with zeros (already present in the loaded database).\n",
    "\n",
    "More info in: M. Rupp, et al., <br>\n",
    "Fast and Accurate Modeling of Molecular Atomization Energies with Machine Learning,<br>\n",
    "Physical Review Letters, <b>108</b>, 058301 (2012)"
   ]
  },
  {
   "cell_type": "markdown",
   "metadata": {
    "deletable": true,
    "editable": true
   },
   "source": [
    "## Exercise: KRR for energy prediction\n",
    "\n",
    "We will now apply KRR to the prediction of atomisation energy of small organic molecules.\n",
    "The database consists of 1000 molecules with up to 9 heavy atoms from the GDB-9 set.\n"
   ]
  },
  {
   "cell_type": "code",
   "execution_count": null,
   "metadata": {
    "collapsed": false,
    "deletable": true,
    "editable": true
   },
   "outputs": [],
   "source": [
    "# The database has 1000 small molecules, max 23 atoms\n",
    "\n",
    "# load the pre-processed Coulomb matrixes\n",
    "molecules = numpy.loadtxt('data/krr-evals.txt')\n",
    "\n",
    "# load the DFT atomisation energy of each molecule\n",
    "energies = numpy.loadtxt('data/krr-PBE0energies.txt')\n",
    "\n",
    "# split the data into training/validation\n",
    "nTrain = 700\n",
    "# take some as a training set\n",
    "trainM = molecules[0:nTrain]\n",
    "trainE = energies[0:nTrain]\n",
    "\n",
    "nValid = 300\n",
    "# take some other as validation\n",
    "validM = molecules[nTrain:nTrain+nValid]\n",
    "validE = energies[nTrain:nTrain+nValid]"
   ]
  },
  {
   "cell_type": "code",
   "execution_count": null,
   "metadata": {
    "collapsed": true,
    "deletable": true,
    "editable": true
   },
   "outputs": [],
   "source": [
    "# create a new KRR solver\n",
    "\n",
    "# train it\n",
    "\n",
    "# evaluate it with the validation set\n",
    "\n",
    "#make a regression plot\n",
    "\n",
    "#comment on the results"
   ]
  },
  {
   "cell_type": "code",
   "execution_count": null,
   "metadata": {
    "collapsed": true,
    "deletable": true,
    "editable": true
   },
   "outputs": [],
   "source": []
  }
 ],
 "metadata": {
  "anaconda-cloud": {},
  "kernelspec": {
   "display_name": "Python 2",
   "language": "python",
   "name": "python2"
  },
  "language_info": {
   "codemirror_mode": {
    "name": "ipython",
    "version": 2
   },
   "file_extension": ".py",
   "mimetype": "text/x-python",
   "name": "python",
   "nbconvert_exporter": "python",
   "pygments_lexer": "ipython2",
   "version": "2.7.12+"
  }
 },
 "nbformat": 4,
 "nbformat_minor": 2
}
