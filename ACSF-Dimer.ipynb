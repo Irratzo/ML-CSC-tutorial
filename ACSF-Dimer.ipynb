{
 "cells": [
  {
   "cell_type": "markdown",
   "metadata": {},
   "source": [
    "# Atom Centered Symmetry Functions\n",
    "\n",
    "ACSFs are a convenient way of transforming atomic coortinates and types into a computer-friendly string of numbers. Each atom gets its own set of ACSFs, computed using itself as the center, and all other atomic coordinates, which encode its chemical environment.<br>\n",
    "<img src=\"./images/acsf-schema.png\" width=\"400px\"><br>\n",
    "The two main type of ACSFs are two- an three-body. Each set of ACSFs becomes the input of a neural network that calculates the corresponding energy contribution. The only important quantity is the total energy of the system, given by the sum of all contributions.\n",
    "\n",
    "\n",
    "For more info see: Jörg Behler, <i>J. Chem. Phys.</i> <b>134</b>, 074106 (2011)"
   ]
  },
  {
   "cell_type": "markdown",
   "metadata": {},
   "source": [
    "# A pratical example\n",
    "\n",
    "We are going to see ACSFs in action for a simple dimer system.\n",
    "\n",
    "Since there is only one atomic species and only two atoms, we will not need the three-body terms. Due to the symmetry of the system we can just compute the ACSFs for one of the two atoms, feed them to a single NN to get the total energy directly.\n",
    "\n",
    "Here are some definitions we will need."
   ]
  },
  {
   "cell_type": "code",
   "execution_count": null,
   "metadata": {},
   "outputs": [],
   "source": [
    "# --- INITIAL DEFINITIONS ---\n",
    "from sklearn.neural_network import MLPRegressor\n",
    "import numpy, math, random\n",
    "import matplotlib.pyplot as plt\n",
    "from mpl_toolkits.mplot3d import Axes3D\n",
    "from ase import Atoms\n",
    "from ase.visualize import view\n",
    "\n",
    "# cutoff for all ACSF\n",
    "Rcut = 5.0\n",
    "\n",
    "# cutoff function\n",
    "def fcut(r):\n",
    "    if r >= Rcut: return 0\n",
    "    return (math.cos(math.pi * r/Rcut)+1) * 0.5\n",
    "\n",
    "# G1 function definition\n",
    "def G1f(r, eta, Rs):\n",
    "     return math.exp(-eta*(r-Rs)*(r-Rs)) * fcut(r)"
   ]
  },
  {
   "cell_type": "markdown",
   "metadata": {},
   "source": [
    "### Creating the training set\n",
    "\n",
    "In order to learn the relationship between ACSFs and the energy of the system, we need a database of ACSFs for several atomic configurations, and the corresponding energy.\n",
    "\n",
    "The sample configurations consist of the dimer, stretched and compressed. In reality the energy is calculated with quantum methods (DFT, CC, ...) but here we will use a simple Lennard-Jones function."
   ]
  },
  {
   "cell_type": "code",
   "execution_count": null,
   "metadata": {},
   "outputs": [],
   "source": [
    "# array of meaningful distances\n",
    "dists = numpy.arange(1.95, Rcut, Rcut/30)\n",
    "# LJ energy at those distances\n",
    "energy = numpy.power(dists/2,-12)-numpy.power(dists/2,-6) - 2\n",
    "\n",
    "plt.plot(dists, energy,'.' )\n",
    "plt.xlabel('Pair distance')\n",
    "plt.ylabel('Energy')\n",
    "plt.show()"
   ]
  },
  {
   "cell_type": "markdown",
   "metadata": {
    "collapsed": true
   },
   "source": [
    "Then we calculate the ACSFs for each dimer configuration. The results are formatted as a matrix: one row for each configuration, one column for each ACSF."
   ]
  },
  {
   "cell_type": "code",
   "execution_count": null,
   "metadata": {},
   "outputs": [],
   "source": [
    "# ACSFs G1 parameter pairs: this is a list of eta/Rs values\n",
    "params = [(0.4, 0.2),(0.4, 0.5)]\n",
    "\n",
    "# initialise a matrix that will store the ACSFs of the first atom in all dimer configurations\n",
    "nConfs = dists.shape[0]\n",
    "acsf = numpy.zeros((nConfs, 1+len(params)))\n",
    "\n",
    "print(\"Number of configurations: \" + str(nConfs))\n",
    "print(\"Number of ACSfs: \" + str(acsf.shape[1]))\n",
    "\n",
    "\n",
    "for k in range(nConfs): # for each configuration\n",
    "    \n",
    "    r = dists[k] # distance between atoms\n",
    "    # compute G0 - sum of cutoffs\n",
    "    acsf[k,0] = fcut(r)\n",
    "    \n",
    "    # compute all the G1\n",
    "    for p in range(len(params)):\n",
    "        # extract parameters\n",
    "        eta,rs = params[p]\n",
    "        # compute G1\n",
    "        acsf[k,1+p] = G1f(r, eta, rs)\n",
    "\n",
    "# plot the Gs as a function of distance\n",
    "for a in range(acsf.shape[1]):\n",
    "    plt.plot(dists, acsf[:,a])\n",
    "plt.xlabel('Pair distance')\n",
    "plt.ylabel('ACSFs')\n",
    "plt.show()"
   ]
  },
  {
   "cell_type": "markdown",
   "metadata": {},
   "source": [
    "#### OPTIONAL TRICK\n",
    "\n",
    "We can center the ACSFs around their mean and rescale them so that their standard deviation is 1. This is a common trick in ML with neural networks, to make the learning easier."
   ]
  },
  {
   "cell_type": "code",
   "execution_count": null,
   "metadata": {},
   "outputs": [],
   "source": [
    "acsf_mean = numpy.mean(acsf, axis=0)\n",
    "for a in range(acsf.shape[1]):\n",
    "    acsf[:,a] -= acsf_mean[a]\n",
    "acsf_std = numpy.std(acsf, axis=0)\n",
    "for a in range(acsf.shape[1]):\n",
    "    acsf[:,a] /= acsf_std[a]\n",
    "\n",
    "# plot the Gs as a function of distance\n",
    "for a in range(acsf.shape[1]):\n",
    "    plt.plot(dists, acsf[:,a])\n",
    "plt.xlabel('Pair distance')\n",
    "plt.ylabel('ACSFs - scaled and shifted')\n",
    "plt.show()"
   ]
  },
  {
   "cell_type": "markdown",
   "metadata": {},
   "source": [
    "### Training\n",
    "\n",
    "We create a neural network and train it on the ACSF database we just constructed."
   ]
  },
  {
   "cell_type": "code",
   "execution_count": null,
   "metadata": {},
   "outputs": [],
   "source": [
    "# setup the neural network\n",
    "# the network uses tanh function on all hidden neurons\n",
    "\n",
    "nn = MLPRegressor(hidden_layer_sizes=(5,), activation='tanh')"
   ]
  },
  {
   "cell_type": "markdown",
   "metadata": {},
   "source": [
    "The fitting may not be trivial since our database is small... the next instruction can be executed multiple times let the NN train more and hopefully improve."
   ]
  },
  {
   "cell_type": "code",
   "execution_count": null,
   "metadata": {},
   "outputs": [],
   "source": [
    "# change some training parameters\n",
    "nn.set_params(solver='lbfgs', alpha=0.001, tol=1.0e-10, learning_rate='constant', learning_rate_init=0.01)\n",
    "# do some training steps\n",
    "nn.fit(acsf, energy);"
   ]
  },
  {
   "cell_type": "code",
   "execution_count": null,
   "metadata": {},
   "outputs": [],
   "source": [
    "# evaluate the training error\n",
    "energyML = nn.predict(acsf)\n",
    "\n",
    "print (\"Mean Abs Error (training)  : \", (numpy.abs(energyML-energy)).mean())\n",
    "\n",
    "# energy curve\n",
    "plt.plot(dists, energy,'-.' )\n",
    "plt.plot(dists, energyML,'o' )\n",
    "plt.xlabel('Pair distance')\n",
    "plt.ylabel('Energy')\n",
    "plt.show()\n",
    "\n",
    "# regression plot\n",
    "plt.plot(energy,energyML,'o')\n",
    "plt.plot([-2.3,-1.7],[-2.3,-1.7]) # perfect fit line\n",
    "plt.xlabel('correct energy')\n",
    "plt.ylabel('NN energy')\n",
    "plt.show()"
   ]
  },
  {
   "cell_type": "markdown",
   "metadata": {},
   "source": [
    "### Remarks\n",
    "\n",
    "Do not be fooled! Real systems are much more difficult to model, requiring more ACSFs, larger NNs, and much larger datasets for training."
   ]
  },
  {
   "cell_type": "markdown",
   "metadata": {},
   "source": [
    "## Exercises"
   ]
  },
  {
   "cell_type": "markdown",
   "metadata": {
    "collapsed": true
   },
   "source": [
    "### 1. Create a vaidation set and test the NN performance\n",
    "\n",
    "For simplicity we just checked the error on training data, but it is better to check performance on a validation set not included in the training.\n",
    "\n",
    "Create different dimer configurations and test NN performance on those."
   ]
  },
  {
   "cell_type": "code",
   "execution_count": null,
   "metadata": {},
   "outputs": [],
   "source": []
  },
  {
   "cell_type": "markdown",
   "metadata": {},
   "source": [
    "### 2. Craft you own energy\n",
    "\n",
    "Make the dimer energy expression more complex and attempt to machine-learn it."
   ]
  },
  {
   "cell_type": "code",
   "execution_count": null,
   "metadata": {},
   "outputs": [],
   "source": []
  },
  {
   "cell_type": "markdown",
   "metadata": {},
   "source": [
    "### 3. Add/edit the ACSFs parameters\n",
    "\n",
    "Try to change the ACSFs parameters to get better model performance."
   ]
  },
  {
   "cell_type": "code",
   "execution_count": null,
   "metadata": {},
   "outputs": [],
   "source": []
  },
  {
   "cell_type": "markdown",
   "metadata": {},
   "source": [
    "### 4. A real molecule\n",
    "\n",
    "Here is a real organic molecule... try to compute the ACSFs for its atoms using the DScribe package.\n",
    "Documentation can be found here: https://singroup.github.io/dscribe/tutorials/acsf.html"
   ]
  },
  {
   "cell_type": "code",
   "execution_count": null,
   "metadata": {
    "scrolled": true
   },
   "outputs": [],
   "source": [
    "# atomic positions as matrix\n",
    "molxyz = numpy.load(\"./data/molecule.coords.npy\")\n",
    "# atom types\n",
    "moltyp = numpy.load(\"./data/molecule.types.npy\")\n",
    "\n",
    "atoms_sys = Atoms(positions=molxyz, numbers=moltyp)\n",
    "view(atoms_sys, viewer='x3d')\n"
   ]
  },
  {
   "cell_type": "code",
   "execution_count": null,
   "metadata": {},
   "outputs": [],
   "source": [
    "from dscribe.descriptors import ACSF\n",
    "\n",
    "# Setting up the ACSF descriptor\n",
    "acsf = ACSF(\n",
    "    species=[\"H\", \"C\", \"N\", \"O\"],\n",
    "    rcut=6.0,\n",
    "    # configure parameters for desired ACSFs\n",
    "    g2_params=[[1, 1], [1, 2], [1, 3]],\n",
    "    g4_params=[[1, 1, 1], [1, 2, 1], [1, 1, -1], [1, 2, -1]],\n",
    ")"
   ]
  },
  {
   "cell_type": "code",
   "execution_count": null,
   "metadata": {},
   "outputs": [],
   "source": [
    "# calculate the descriptor"
   ]
  }
 ],
 "metadata": {
  "kernelspec": {
   "display_name": "Python 3",
   "language": "python",
   "name": "python3"
  },
  "language_info": {
   "codemirror_mode": {
    "name": "ipython",
    "version": 3
   },
   "file_extension": ".py",
   "mimetype": "text/x-python",
   "name": "python",
   "nbconvert_exporter": "python",
   "pygments_lexer": "ipython3",
   "version": "3.5.2"
  }
 },
 "nbformat": 4,
 "nbformat_minor": 2
}
