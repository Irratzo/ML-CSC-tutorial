{
 "cells": [
  {
   "cell_type": "markdown",
   "metadata": {},
   "source": [
    "# t-distributed Stochastic Neighbour Embedding\n",
    "\n",
    "Some fancy technique to make fancy plot out of some complex high-dimensional data.\n",
    "\n",
    "More info in the usual place: https://en.wikipedia.org/wiki/T-distributed_stochastic_neighbor_embedding\n"
   ]
  },
  {
   "cell_type": "code",
   "execution_count": null,
   "metadata": {},
   "outputs": [],
   "source": [
    "from sklearn.manifold import TSNE\n",
    "import matplotlib.pyplot as plt\n",
    "import numpy"
   ]
  },
  {
   "cell_type": "markdown",
   "metadata": {},
   "source": [
    "We are going to apply this technique to a database of wine samples. The inputs are 13 chemical descriptors, the output is the index of its class (cheap, ok, good). In principle we do not know the output."
   ]
  },
  {
   "cell_type": "code",
   "execution_count": null,
   "metadata": {},
   "outputs": [],
   "source": [
    "dataIn = numpy.genfromtxt('./data/wineInputs.txt', delimiter=',')\n",
    "dataOut = numpy.genfromtxt('./data/wineOutputs.txt', delimiter=',')\n",
    "\n",
    "# find indexes of wines for each class\n",
    "idx1 = numpy.where(dataOut==1)\n",
    "idx2 = numpy.where(dataOut==2)\n",
    "idx3 = numpy.where(dataOut==3)"
   ]
  },
  {
   "cell_type": "code",
   "execution_count": null,
   "metadata": {},
   "outputs": [],
   "source": [
    "# compute the tSNE transformation of the inputs in 2 dimensions\n",
    "comp = TSNE(n_components=2).fit_transform(dataIn)\n",
    "\n",
    "# plot the resulting 2D points\n",
    "plt.plot(comp[:,0],comp[:,1],'ro')\n",
    "plt.xlabel('X1')\n",
    "plt.ylabel('X2')\n",
    "plt.show()"
   ]
  },
  {
   "cell_type": "markdown",
   "metadata": {},
   "source": [
    "The transform had no idea about the output classes, and still three clusters of points can be seen. We can overlay the knowledge of correct classifaction to check if the clusters correspond to what we know:"
   ]
  },
  {
   "cell_type": "code",
   "execution_count": null,
   "metadata": {},
   "outputs": [],
   "source": [
    "plt.plot(comp[idx1,0],comp[idx1,1],'go')\n",
    "plt.plot(comp[idx2,0],comp[idx2,1],'ro')\n",
    "plt.plot(comp[idx3,0],comp[idx3,1],'bo')\n",
    "plt.xlabel('X1')\n",
    "plt.ylabel('X2')\n",
    "plt.show()"
   ]
  },
  {
   "cell_type": "markdown",
   "metadata": {},
   "source": [
    "## Exercises"
   ]
  },
  {
   "cell_type": "markdown",
   "metadata": {},
   "source": [
    "### 1. Iron compounds\n",
    "Test tSDN on iron compounds and check if we can distinguish between FCC and BCC phases."
   ]
  },
  {
   "cell_type": "code",
   "execution_count": null,
   "metadata": {},
   "outputs": [],
   "source": [
    "# load the database\n",
    "# ...\n",
    "\n",
    "# compute the descriptor for each material\n",
    "# ...\n",
    "\n",
    "# apply the transform\n",
    "# ...\n",
    "\n",
    "# check phases\n",
    "# ...\n"
   ]
  }
 ],
 "metadata": {
  "kernelspec": {
   "display_name": "Python 3",
   "language": "python",
   "name": "python3"
  },
  "language_info": {
   "codemirror_mode": {
    "name": "ipython",
    "version": 3
   },
   "file_extension": ".py",
   "mimetype": "text/x-python",
   "name": "python",
   "nbconvert_exporter": "python",
   "pygments_lexer": "ipython3",
   "version": "3.5.2"
  }
 },
 "nbformat": 4,
 "nbformat_minor": 2
}
